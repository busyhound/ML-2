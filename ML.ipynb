{
  "nbformat": 4,
  "nbformat_minor": 0,
  "metadata": {
    "colab": {
      "name": "ML",
      "provenance": [],
      "collapsed_sections": [],
      "authorship_tag": "ABX9TyMga6pzRloNjdteQxdMcv3n",
      "include_colab_link": true
    },
    "kernelspec": {
      "name": "python3",
      "display_name": "Python 3"
    }
  },
  "cells": [
    {
      "cell_type": "markdown",
      "metadata": {
        "id": "view-in-github",
        "colab_type": "text"
      },
      "source": [
        "<a href=\"https://colab.research.google.com/github/busyhound/ML-2/blob/master/ML.ipynb\" target=\"_parent\"><img src=\"https://colab.research.google.com/assets/colab-badge.svg\" alt=\"Open In Colab\"/></a>"
      ]
    },
    {
      "cell_type": "code",
      "metadata": {
        "id": "SI5ZyuD4yfN5"
      },
      "source": [
        "import numpy as np\n",
        "import pandas as pd\n",
        "import matplotlib.pyplot as plt\n",
        "from mpl_toolkits.mplot3d import Axes3D\n",
        "from sklearn import datasets\n",
        "\n",
        "from sklearn.model_selection import train_test_split\n",
        "iris = datasets.load_iris()\n",
        "X, Y_in = iris.data, iris.target\n",
        "#print(len(y))\n",
        "\n",
        "#x_train,x_test,y_train,y_test=train_test_split(x,y,test_size=0.01,random_state=123)\n"
      ],
      "execution_count": null,
      "outputs": []
    },
    {
      "cell_type": "code",
      "metadata": {
        "id": "2Zaf0NzWy-qn"
      },
      "source": [
        "from sklearn.model_selection import train_test_split\n",
        "X_train, X_test, Y_train, Y_test = train_test_split(X, Y, test_size=0.2)\n",
        "X_train, X_val, Y_train, Y_val = train_test_split(X_train, Y_train, test_size=0.1)"
      ],
      "execution_count": null,
      "outputs": []
    },
    {
      "cell_type": "code",
      "metadata": {
        "id": "NrW71iOVzCCK"
      },
      "source": [
        "def NeuralNetwork(X_train, Y_train,epochs=10, nodes=[], lr=0.15):\n",
        "    hidden_layers = len(nodes) - 1\n",
        "    layers=len(nodes)\n",
        "    weights=[]\n",
        "    for i in range(1, layers):\n",
        "      w = [[np.random.uniform(-1, 1) for k in range(nodes[i-1] + 1)]\n",
        "           for j in range(nodes[i])]\n",
        "      weights.append(np.matrix(w))\n",
        " \n",
        "    for epoch in range(1, epochs+1):\n",
        "\n",
        "      layers = len(weights)\n",
        "      for i in range(len(X)):\n",
        "\n",
        "        x, y = X[i], Y[i]\n",
        "        x = np.matrix(np.append(1, x)) # Augment feature vector\n",
        "        \n",
        "        activations = ForwardPropagation(x, weights, layers)\n",
        "        weights = BackPropagation(y, activations, weights, layers)\n",
        "      if(epoch % 20 == 0):\n",
        "        print(\"Epoch {}\".format(epoch))\n",
        "        print(\"Training Accuracy:{}\".format(Accuracy(X_train, Y_train, weights)))\n",
        "        print(\"Test Accuracy:{}\".format(Accuracy(X_test, Y_test, weights)))\n",
        "      #  weights = Train(X_train, Y_train, lr, weights)\n",
        "\n",
        "        \n",
        "            \n",
        "    return weights\n"
      ],
      "execution_count": null,
      "outputs": []
    },
    {
      "cell_type": "code",
      "metadata": {
        "id": "HzlkpTbmCqqG"
      },
      "source": [
        "def oneHotVector(n):\n",
        "  b=[]\n",
        "  #a=int(input())\n",
        "  a=3 # number of class\n",
        "  for i in range(a):\n",
        "    if(i==n):\n",
        "      b.append(1.0)\n",
        "    else:\n",
        "      b.append(0.0)\n",
        "  return b"
      ],
      "execution_count": null,
      "outputs": []
    },
    {
      "cell_type": "code",
      "metadata": {
        "id": "srqyxhYQfNmS"
      },
      "source": [
        "def softmax(x):\n",
        "    x=np.array(x)\n",
        "    e_x = np.exp(x - np.max(x))\n",
        "    return e_x / e_x.sum()\n"
      ],
      "execution_count": null,
      "outputs": []
    },
    {
      "cell_type": "code",
      "metadata": {
        "id": "GQn_FC6mfT-0"
      },
      "source": [
        "def outputClass(softmaxValue):\n",
        "  softmaxValue=np.array(softmaxValue)\n",
        " # maxpos = softmaxValue.index(max(softmaxValue))\n",
        "  maxpos= np.argmax(softmaxValue)\n",
        "  #print(\"max\")\n",
        "  #print(maxpos)\n",
        "  for i in range(len(softmaxValue)):\n",
        "    if(i==maxpos):\n",
        "      softmaxValue[i]=maxpos\n",
        "    else:\n",
        "      softmaxValue[i]=0\n",
        "  return softmaxValue.tolist()\n"
      ],
      "execution_count": null,
      "outputs": []
    },
    {
      "cell_type": "code",
      "metadata": {
        "id": "bzjNC4VGfWg5"
      },
      "source": [
        "def final_output(softmax):\n",
        "  softmaxValue=np.array(softmax)\n",
        " # maxpos = softmaxValue.index(max(softmaxValue))\n",
        "  maxpos= np.argmax(softmaxValue)\n",
        "  return maxpos\n"
      ],
      "execution_count": null,
      "outputs": []
    },
    {
      "cell_type": "code",
      "metadata": {
        "id": "0r15Pw-wfZvW"
      },
      "source": [
        "def dot(x, y):\n",
        "    \"\"\"Dot product as sum of list comprehension doing element-wise multiplication\"\"\"\n",
        "    return sum(x_i*y_i for x_i, y_i in zip(x, y))\n",
        "\n",
        "def cross_product(u,v):  \n",
        "    dim = len(u)\n",
        "    s = []\n",
        "    for i in range(dim):\n",
        "        if i == 0:\n",
        "            j,k = 1,2\n",
        "            s.append(u[j]*v[k] - u[k]*v[j])\n",
        "        elif i == 1:\n",
        "            j,k = 2,0\n",
        "            s.append(u[j]*v[k] - u[k]*v[j])\n",
        "        else:\n",
        "            j,k = 0,1\n",
        "            s.append(u[j]*v[k] - u[k]*v[j])\n",
        "    return s\n"
      ],
      "execution_count": null,
      "outputs": []
    },
    {
      "cell_type": "code",
      "metadata": {
        "id": "DOIo6_1zzLBE"
      },
      "source": [
        "def ForwardPropagation(x, weights, layers):\n",
        "    activations, layer_input = [x], x\n",
        "    for j in range(layers):\n",
        "        activation = Sigmoid(np.dot(layer_input, weights[j].T))\n",
        "        #print(\"activation\",activation)\n",
        "        #input()\n",
        "        activations.append(activation)\n",
        "        layer_input = np.append(1, activation) # Augment with bias\n",
        "    #print(\"activations----------------\",activations)\n",
        "    #input()\n",
        "    return activations"
      ],
      "execution_count": null,
      "outputs": []
    },
    {
      "cell_type": "code",
      "metadata": {
        "id": "YQ9RilOGzOD8"
      },
      "source": [
        "def BackPropagation(y, activations, weights, layers):\n",
        "    outputFinal = activations[-1]\n",
        "    error = np.matrix(y - outputFinal) # Error at output\n",
        "    \n",
        "    for j in range(layers, 0, -1):\n",
        "        currActivation = activations[j]\n",
        "       #print(\"currActivation\",currActivation)\n",
        "        #input()\n",
        "        \n",
        "        if(j > 1):\n",
        "            # Augment previous activation\n",
        "            prevActivation = np.append(1, activations[j-1])\n",
        "        else:\n",
        "            # First hidden layer, prevActivation is input (without bias)\n",
        "            prevActivation = activations[0]\n",
        "        \n",
        "        delta = np.multiply(error, SigmoidDerivative(currActivation))\n",
        "        weights[j-1] += lr * np.multiply(delta.T, prevActivation)\n",
        "\n",
        "        w = np.delete(weights[j-1], [0], axis=1) # Remove bias from weights\n",
        "        error = np.dot(delta, w) # Calculate error for current layer\n",
        "    \n",
        "    return weights"
      ],
      "execution_count": null,
      "outputs": []
    },
    {
      "cell_type": "code",
      "metadata": {
        "id": "9cGaHQkdzTzk"
      },
      "source": [
        "def Sigmoid(x):\n",
        "    return 1 / (1 + np.exp(-x))\n",
        "\n",
        "def SigmoidDerivative(x):\n",
        "    return np.multiply(x, 1-x)"
      ],
      "execution_count": null,
      "outputs": []
    },
    {
      "cell_type": "code",
      "metadata": {
        "id": "xx2UpMGozXNu"
      },
      "source": [
        "def Predict(item, weights):\n",
        "    layers = len(weights)\n",
        "    item = np.append(1, item) # Augment feature vector\n",
        "    \n",
        "    ##_Forward Propagation_##\n",
        "    activations = ForwardPropagation(item, weights, layers)\n",
        "    \n",
        "    outputFinal = activations[-1].A1\n",
        "    index = FindMaxActivation(outputFinal)\n",
        "\n",
        "    # Initialize prediction vector to zeros\n",
        "    y = [0 for i in range(len(outputFinal))]\n",
        "    y[index] = 1  # Set guessed class to 1\n",
        "\n",
        "    return y # Return prediction vector\n",
        "\n",
        "\n",
        "def FindMaxActivation(output):\n",
        "    \"\"\"Find max activation in output\"\"\"\n",
        "    m, index = output[0], 0\n",
        "    for i in range(1, len(output)):\n",
        "        if(output[i] > m):\n",
        "            m, index = output[i], i\n",
        "    \n",
        "    return index"
      ],
      "execution_count": null,
      "outputs": []
    },
    {
      "cell_type": "code",
      "metadata": {
        "id": "phHHW-7nzaTJ"
      },
      "source": [
        "def Accuracy(X, Y, weights):\n",
        "    \"\"\"Run set through network, find overall accuracy\"\"\"\n",
        "    correct = 0\n",
        "    #print(\"rr3\")\n",
        "    for i in range(len(X)):\n",
        "        #print(\"rr4\")\n",
        "        x, y = X[i], list(Y[i])\n",
        "      #  print(y)\n",
        "        #input()\n",
        "       # print(\"rr1\")\n",
        "        guess = Predict(x, weights)\n",
        "        #print(\"rr2\")\n",
        "\n",
        "        if(y == guess):\n",
        "            # Guessed correctly\n",
        "            correct += 1\n",
        "\n",
        "    return correct / len(X)"
      ],
      "execution_count": null,
      "outputs": []
    },
    {
      "cell_type": "code",
      "metadata": {
        "id": "jHRCw36_zduj",
        "colab": {
          "base_uri": "https://localhost:8080/"
        },
        "outputId": "8b5e06cb-a190-4e0d-a112-adb069d48af8"
      },
      "source": [
        "inputLayer=4\n",
        "outputLayer=3\n",
        "First_hiddenLayer=5\n",
        "layers=[inputLayer,First_hiddenLayer,outputLayer]\n",
        "lr, epochs = 0.15, 100\n",
        "\n",
        "\n",
        "weights = NeuralNetwork(X_train, Y_train, epochs=epochs, nodes=layers, lr=lr);\n"
      ],
      "execution_count": null,
      "outputs": [
        {
          "output_type": "stream",
          "text": [
            "Epoch 20\n",
            "Training Accuracy:0.6574074074074074\n",
            "Test Accuracy:0.7\n",
            "Epoch 40\n",
            "Training Accuracy:0.7777777777777778\n",
            "Test Accuracy:0.7333333333333333\n",
            "Epoch 60\n",
            "Training Accuracy:0.8611111111111112\n",
            "Test Accuracy:0.8666666666666667\n",
            "Epoch 80\n",
            "Training Accuracy:0.8611111111111112\n",
            "Test Accuracy:0.9666666666666667\n",
            "Epoch 100\n",
            "Training Accuracy:0.8703703703703703\n",
            "Test Accuracy:0.9666666666666667\n"
          ],
          "name": "stdout"
        }
      ]
    },
    {
      "cell_type": "code",
      "metadata": {
        "colab": {
          "base_uri": "https://localhost:8080/"
        },
        "id": "uOF8orSgOreV",
        "outputId": "7eadb2f6-0020-4fe8-dd12-e51d3e40432f"
      },
      "source": [
        "print(x_test)\n",
        "X_train"
      ],
      "execution_count": null,
      "outputs": [
        {
          "output_type": "stream",
          "text": [
            "[[6.3 2.5 4.9 1.5]\n",
            " [6.8 3.  5.5 2.1]\n",
            " [6.4 2.8 5.6 2.2]\n",
            " [5.6 3.  4.1 1.3]\n",
            " [4.9 3.6 1.4 0.1]\n",
            " [6.  3.  4.8 1.8]\n",
            " [6.3 2.3 4.4 1.3]\n",
            " [4.4 3.2 1.3 0.2]\n",
            " [4.4 2.9 1.4 0.2]\n",
            " [5.5 2.6 4.4 1.2]\n",
            " [6.9 3.1 5.1 2.3]\n",
            " [5.5 4.2 1.4 0.2]\n",
            " [5.2 2.7 3.9 1.4]\n",
            " [6.5 3.  5.5 1.8]\n",
            " [7.7 3.  6.1 2.3]\n",
            " [6.5 3.  5.8 2.2]\n",
            " [5.5 3.5 1.3 0.2]\n",
            " [4.3 3.  1.1 0.1]\n",
            " [6.1 2.9 4.7 1.4]\n",
            " [4.8 3.  1.4 0.3]\n",
            " [5.2 3.4 1.4 0.2]\n",
            " [6.3 2.8 5.1 1.5]\n",
            " [4.8 3.4 1.9 0.2]\n",
            " [6.1 3.  4.9 1.8]\n",
            " [5.1 3.8 1.6 0.2]\n",
            " [5.4 3.4 1.7 0.2]\n",
            " [5.4 3.4 1.5 0.4]\n",
            " [5.6 2.8 4.9 2. ]\n",
            " [7.7 3.8 6.7 2.2]\n",
            " [5.  3.6 1.4 0.2]]\n"
          ],
          "name": "stdout"
        },
        {
          "output_type": "execute_result",
          "data": {
            "text/plain": [
              "array([[6. , 2.9, 4.5, 1.5],\n",
              "       [5.2, 3.5, 1.5, 0.2],\n",
              "       [6.1, 2.8, 4.7, 1.2],\n",
              "       [5.7, 2.6, 3.5, 1. ],\n",
              "       [4.6, 3.4, 1.4, 0.3],\n",
              "       [4.7, 3.2, 1.3, 0.2],\n",
              "       [5.6, 2.5, 3.9, 1.1],\n",
              "       [5.7, 4.4, 1.5, 0.4],\n",
              "       [4.8, 3.1, 1.6, 0.2],\n",
              "       [5.8, 2.6, 4. , 1.2],\n",
              "       [5.8, 2.7, 5.1, 1.9],\n",
              "       [4.7, 3.2, 1.6, 0.2],\n",
              "       [5.5, 2.3, 4. , 1.3],\n",
              "       [6.8, 3.2, 5.9, 2.3],\n",
              "       [5. , 3.4, 1.6, 0.4],\n",
              "       [5.9, 3.2, 4.8, 1.8],\n",
              "       [6.5, 2.8, 4.6, 1.5],\n",
              "       [6.7, 3. , 5. , 1.7],\n",
              "       [4.6, 3.1, 1.5, 0.2],\n",
              "       [5.4, 3.9, 1.7, 0.4],\n",
              "       [6.3, 2.7, 4.9, 1.8],\n",
              "       [6.5, 3. , 5.2, 2. ],\n",
              "       [5.1, 2.5, 3. , 1.1],\n",
              "       [6.2, 2.9, 4.3, 1.3],\n",
              "       [6.4, 3.1, 5.5, 1.8],\n",
              "       [7.2, 3.6, 6.1, 2.5],\n",
              "       [5.5, 2.4, 3.8, 1.1],\n",
              "       [6.3, 3.3, 4.7, 1.6],\n",
              "       [5.3, 3.7, 1.5, 0.2],\n",
              "       [4.6, 3.6, 1. , 0.2],\n",
              "       [5.5, 2.5, 4. , 1.3],\n",
              "       [6.7, 3. , 5.2, 2.3],\n",
              "       [6.7, 3.1, 5.6, 2.4],\n",
              "       [7.9, 3.8, 6.4, 2. ],\n",
              "       [6.4, 2.9, 4.3, 1.3],\n",
              "       [5.7, 2.8, 4.1, 1.3],\n",
              "       [6.7, 2.5, 5.8, 1.8],\n",
              "       [5.8, 2.8, 5.1, 2.4],\n",
              "       [5. , 3.5, 1.6, 0.6],\n",
              "       [6.3, 2.9, 5.6, 1.8],\n",
              "       [5.4, 3.9, 1.3, 0.4],\n",
              "       [6.9, 3.1, 4.9, 1.5],\n",
              "       [5. , 2. , 3.5, 1. ],\n",
              "       [6.4, 2.7, 5.3, 1.9],\n",
              "       [5.5, 2.4, 3.7, 1. ],\n",
              "       [5.7, 2.5, 5. , 2. ],\n",
              "       [6. , 3.4, 4.5, 1.6],\n",
              "       [5.7, 3. , 4.2, 1.2],\n",
              "       [5.1, 3.5, 1.4, 0.2],\n",
              "       [5.8, 2.7, 4.1, 1. ],\n",
              "       [4.9, 3.1, 1.5, 0.2],\n",
              "       [7.1, 3. , 5.9, 2.1],\n",
              "       [6.9, 3.1, 5.4, 2.1],\n",
              "       [7.7, 2.6, 6.9, 2.3],\n",
              "       [6. , 2.7, 5.1, 1.6],\n",
              "       [5.1, 3.7, 1.5, 0.4],\n",
              "       [6.2, 3.4, 5.4, 2.3],\n",
              "       [4.9, 3.1, 1.5, 0.1],\n",
              "       [6.3, 3.4, 5.6, 2.4],\n",
              "       [5. , 3.4, 1.5, 0.2],\n",
              "       [5. , 2.3, 3.3, 1. ],\n",
              "       [5.9, 3. , 5.1, 1.8],\n",
              "       [6. , 2.2, 5. , 1.5],\n",
              "       [4.6, 3.2, 1.4, 0.2],\n",
              "       [7.7, 2.8, 6.7, 2. ],\n",
              "       [5.6, 2.7, 4.2, 1.3],\n",
              "       [6.3, 2.5, 5. , 1.9],\n",
              "       [6.6, 2.9, 4.6, 1.3],\n",
              "       [5.1, 3.8, 1.9, 0.4],\n",
              "       [7. , 3.2, 4.7, 1.4],\n",
              "       [6.7, 3.3, 5.7, 2.1],\n",
              "       [4.5, 2.3, 1.3, 0.3],\n",
              "       [6.2, 2.8, 4.8, 1.8],\n",
              "       [5. , 3.5, 1.3, 0.3],\n",
              "       [4.9, 2.4, 3.3, 1. ],\n",
              "       [5. , 3.3, 1.4, 0.2],\n",
              "       [5.4, 3. , 4.5, 1.5],\n",
              "       [6.2, 2.2, 4.5, 1.5],\n",
              "       [6.9, 3.2, 5.7, 2.3],\n",
              "       [5.9, 3. , 4.2, 1.5],\n",
              "       [5.2, 4.1, 1.5, 0.1],\n",
              "       [6.7, 3.3, 5.7, 2.5],\n",
              "       [6.4, 2.8, 5.6, 2.1],\n",
              "       [5.1, 3.4, 1.5, 0.2],\n",
              "       [5.6, 2.9, 3.6, 1.3],\n",
              "       [6.3, 3.3, 6. , 2.5],\n",
              "       [6.6, 3. , 4.4, 1.4],\n",
              "       [5.7, 2.9, 4.2, 1.3],\n",
              "       [5.6, 3. , 4.5, 1.5],\n",
              "       [7.3, 2.9, 6.3, 1.8],\n",
              "       [5.1, 3.5, 1.4, 0.3]])"
            ]
          },
          "metadata": {
            "tags": []
          },
          "execution_count": 56
        }
      ]
    },
    {
      "cell_type": "code",
      "metadata": {
        "colab": {
          "base_uri": "https://localhost:8080/"
        },
        "id": "RkR6kanX7njR",
        "outputId": "b08ac217-f704-40cd-fcba-d5c5a380c0dd"
      },
      "source": [
        "#weights = NeuralNetwork(X_train, Y_train, X_val, Y_val, epochs=epochs, nodes=layers, lr=lr);\n",
        "#accu=Accuracy(x_test,y_test,weights)\n",
        "#for i in weights:\n",
        "  #print(\"Training Accuracy:{}\".format(Accuracy(x_test, y_test, i)))\n",
        "  #print(i)\n",
        "\n",
        "#print(\"Training Accuracy:{}\".format(Accuracy(x_test, y_test, weights)))\n",
        "#len(weights)\n",
        "print(y_test)"
      ],
      "execution_count": null,
      "outputs": [
        {
          "output_type": "stream",
          "text": [
            "[1 2 2 1 0 2 1 0 0 1 2 0 1 2 2 2 0 0 1 0 0 2 0 2 0 0 0 2 2 0]\n"
          ],
          "name": "stdout"
        }
      ]
    }
  ]
}